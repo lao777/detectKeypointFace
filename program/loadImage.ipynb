{
 "cells": [
  {
   "cell_type": "code",
   "execution_count": 1,
   "metadata": {
    "collapsed": false
   },
   "outputs": [],
   "source": [
    "from PIL import Image, ImageFilter\n",
    "import sys, glob\n",
    "im = Image.open(\"/home/lao/detectKeypoint/img2.jpg\")\n",
    "\n",
    "\n",
    "r,g,b = im.split()"
   ]
  },
  {
   "cell_type": "code",
   "execution_count": 2,
   "metadata": {
    "collapsed": false
   },
   "outputs": [],
   "source": [
    "pix_val = list(r.getdata())"
   ]
  },
  {
   "cell_type": "code",
   "execution_count": null,
   "metadata": {
    "collapsed": false,
    "scrolled": false
   },
   "outputs": [],
   "source": []
  },
  {
   "cell_type": "code",
   "execution_count": 3,
   "metadata": {
    "collapsed": false,
    "scrolled": true
   },
   "outputs": [
    {
     "data": {
      "text/plain": [
       "5452225"
      ]
     },
     "execution_count": 3,
     "metadata": {},
     "output_type": "execute_result"
    }
   ],
   "source": [
    "len(pix_val)"
   ]
  },
  {
   "cell_type": "code",
   "execution_count": 4,
   "metadata": {
    "collapsed": false
   },
   "outputs": [],
   "source": [
    "i = 0\n",
    "for infile in glob.glob(\"/home/lao/detectKeypoint/*.jpg\"):\n",
    "    im = Image.open(infile)\n",
    "    im = im.resize((100, 100), Image.NEAREST)\n",
    "    i = i + 1\n",
    "    im.save('/home/lao/detectKeypoint/dataHelenScale/'\n",
    "            + str(i) +'.jpg')\n",
    "    #im.show()\n",
    "    #r,g,b = im.split()\n",
    "    #print im"
   ]
  },
  {
   "cell_type": "code",
   "execution_count": 5,
   "metadata": {
    "collapsed": false
   },
   "outputs": [],
   "source": [
    "for infile in glob.glob(\"/home/lao/detectKeypoint/*.jpg\"):\n",
    "    im = Image.open(infile)\n",
    "    #im.show()\n",
    "    r,g,b = im.split()"
   ]
  },
  {
   "cell_type": "code",
   "execution_count": 6,
   "metadata": {
    "collapsed": false
   },
   "outputs": [
    {
     "ename": "NameError",
     "evalue": "name 'np' is not defined",
     "output_type": "error",
     "traceback": [
      "\u001b[1;31m---------------------------------------------------------------------------\u001b[0m",
      "\u001b[1;31mNameError\u001b[0m                                 Traceback (most recent call last)",
      "\u001b[1;32m<ipython-input-6-fb46a5e2eebc>\u001b[0m in \u001b[0;36m<module>\u001b[1;34m()\u001b[0m\n\u001b[1;32m----> 1\u001b[1;33m \u001b[0ma\u001b[0m \u001b[1;33m=\u001b[0m \u001b[0mnp\u001b[0m\u001b[1;33m.\u001b[0m\u001b[0marray\u001b[0m\u001b[1;33m(\u001b[0m\u001b[0mpix_val\u001b[0m\u001b[1;33m)\u001b[0m\u001b[1;33m\u001b[0m\u001b[0m\n\u001b[0m",
      "\u001b[1;31mNameError\u001b[0m: name 'np' is not defined"
     ]
    }
   ],
   "source": [
    "a = np.array(pix_val)"
   ]
  },
  {
   "cell_type": "code",
   "execution_count": 7,
   "metadata": {
    "collapsed": false
   },
   "outputs": [
    {
     "ename": "NameError",
     "evalue": "name 'a' is not defined",
     "output_type": "error",
     "traceback": [
      "\u001b[1;31m---------------------------------------------------------------------------\u001b[0m",
      "\u001b[1;31mNameError\u001b[0m                                 Traceback (most recent call last)",
      "\u001b[1;32m<ipython-input-7-b222883fea98>\u001b[0m in \u001b[0;36m<module>\u001b[1;34m()\u001b[0m\n\u001b[0;32m      1\u001b[0m \u001b[1;32mimport\u001b[0m \u001b[0mmatplotlib\u001b[0m\u001b[1;33m.\u001b[0m\u001b[0mpyplot\u001b[0m \u001b[1;32mas\u001b[0m \u001b[0mplt\u001b[0m\u001b[1;33m\u001b[0m\u001b[0m\n\u001b[0;32m      2\u001b[0m \u001b[0mget_ipython\u001b[0m\u001b[1;33m(\u001b[0m\u001b[1;33m)\u001b[0m\u001b[1;33m.\u001b[0m\u001b[0mmagic\u001b[0m\u001b[1;33m(\u001b[0m\u001b[1;34mu'matplotlib inline'\u001b[0m\u001b[1;33m)\u001b[0m\u001b[1;33m\u001b[0m\u001b[0m\n\u001b[1;32m----> 3\u001b[1;33m \u001b[0mplt\u001b[0m\u001b[1;33m.\u001b[0m\u001b[0mhist\u001b[0m\u001b[1;33m(\u001b[0m\u001b[0ma\u001b[0m\u001b[1;33m)\u001b[0m\u001b[1;33m\u001b[0m\u001b[0m\n\u001b[0m\u001b[0;32m      4\u001b[0m \u001b[0mplt\u001b[0m\u001b[1;33m.\u001b[0m\u001b[0mshow\u001b[0m\u001b[1;33m(\u001b[0m\u001b[1;33m)\u001b[0m\u001b[1;33m\u001b[0m\u001b[0m\n",
      "\u001b[1;31mNameError\u001b[0m: name 'a' is not defined"
     ]
    }
   ],
   "source": [
    "import matplotlib.pyplot as plt\n",
    "%matplotlib inline  \n",
    "plt.hist(a)\n",
    "plt.show()"
   ]
  },
  {
   "cell_type": "code",
   "execution_count": 1,
   "metadata": {
    "collapsed": false
   },
   "outputs": [],
   "source": [
    "import re\n",
    "from PIL import Image, ImageFilter\n",
    "import sys, glob\n",
    "import matplotlib.pyplot as plt\n",
    "%matplotlib inline \n",
    "import numpy as np"
   ]
  },
  {
   "cell_type": "code",
   "execution_count": 3,
   "metadata": {
    "collapsed": false,
    "scrolled": true
   },
   "outputs": [
    {
     "name": "stdout",
     "output_type": "stream",
     "text": [
      "0 1 2 3 4 5 6 7 8 9 10 11 12 13 14 15 16 17 18 19 20 21 22 23 24 25 26 27 28 29 30 31 32 33 34 35 36 37 38 39 40 41 42 43 44 45 46 47 48 49 50 51 52 53 54 55 56 57 58 59 60 61 62 63 64 65 66 67 68 69 70 71 72 73 74 75 76 77 78 79 80 81 82 83 84 85 86 87 88 89 90 91 92 93 94 95 96 97 98 99 100 101 102 103 104 105 106 107 108 109 110 111 112 113 114 115 116 117 118 119 120 121 122 123 124 125 126 127 128 129 130 131 132 133 134 135 136 137 138 139 140 141 142 143 144 145 146 147 148 149 150 151 152 153 154 155 156 157 158 159 160 161 162 163 164 165 166 167 168 169 170 171 172 173 174 175 176 177 178 179 180 181 182 183 184 185 186 187 188 189 190 191 192 193 194 195 196 197 198 199 200 201 202 203 204 205 206 207 208 209 210 211 212 213 214 215 216 217 218 219 220 221 222 223 224 225 226 227 228 229 230 231 232 233 234 235 236 237 238 239 240 241 242 243 244 245 246 247 248 249 250 251 252 253 254 255 256 257 258 259 260 261 262 263 264 265 266 267 268 269 270 271 272 273 274 275 276 277 278 279 280 281 282 283 284 285 286 287 288 289 290 291 292 293 294 295 296 297 298 299 300 301 302 303 304 305 306 307 308 309 310 311 312 313 314 315 316 317 318 319 320 321 322 323 324 325 326 327 328 329 330 331 332 333 334 335 336 337 338 339 340 341 342 343 344 345 346 347 348 349 350 351 352 353 354 355 356 357 358 359 360 361 362 363 364 365 366 367 368 369 370 371 372 373 374 375 376 377 378 379 380 381 382 383 384 385 386 387 388 389 390 391 392 393 394 395 396 397 398 399 400 401 402 403 404 405 406 407 408 409 410 411 412 413 414 415 416 417 418 419 420 421 422 423 424 425 426 427 428 429 430 431 432 433 434 435 436 437 438 439 440 441 442 443 444 445 446 447 448 449 450 451 452 453 454 455 456 457 458 459 460 461 462 463 464 465 466 467 468 469 470 471 472 473 474 475 476 477 478 479 480 481 482 483 484 485 486 487 488 489 490 491 492 493 494 495 496 497 498 499 500 501 502 503 504 505 506 507 508 509 510 511 512 513 514 515 516 517 518 519 520 521 522 523 524 525 526 527 528 529 530 531 532 533 534 535 536 537 538 539 540 541 542 543 544 545 546 547 548 549 550 551 552 553 554 555 556 557 558 559 560 561 562 563 564 565 566 567 568 569 570 571 572 573 574 575 576 577 578 579 580 581 582 583 584 585 586 587 588 589 590 591 592 593 594 595 596 597 598 599 600 601 602 603 604 605 606 607 608 609 610 611 612 613 614 615 616 617 618 619 620 621 622 623 624 625 626 627 628 629 630 631 632 633 634 635 636 637 638 639 640 641 642 643 644 645 646 647 648 649 650 651 652 653 654 655 656 657 658 659 660 661 662 663 664 665 666 667 668 669 670 671 672 673 674 675 676 677 678 679 680 681 682 683 684 685 686 687 688 689 690 691 692 693 694 695 696 697 698 699 700 701 702 703 704 705 706 707 708 709 710 711 712 713 714 715 716 717 718 719 720 721 722 723 724 725 726 727 728 729 730 731 732 733 734 735 736 737 738 739 740 741 742 743 744 745 746 747 748 749 750 751 752 753 754 755 756 757 758 759 760 761 762 763 764 765 766 767 768 769 770 771 772 773 774 775 776 777 778 779 780 781 782 783 784 785 786 787 788 789 790 791 792 793 794 795 796 797 798 799 800 801 802 803 804 805 806 807 808 809 810 811 812 813 814 815 816 817 818 819 820 821 822 823 824 825 826 827 828 829 830 831 832 833 834 835 836 837 838 839 840 841 842 843 844 845 846 847 848 849 850 851 852 853 854 855 856 857 858 859 860 861 862 863 864 865 866 867 868 869 870 871 872 873 874 875 876 877 878 879 880 881 882 883 884 885 886 887 888 889 890 891 892 893 894 895 896 897 898 899 900 901 902 903 904 905 906 907 908 909 910 911 912 913 914 915 916 917 918 919 920 921 922 923 924 925 926 927 928 929 930 931 932 933 934 935 936 937 938 939 940 941 942 943 944 945 946 947 948 949 950 951 952 953 954 955 956 957 958 959 960 961 962 963 964 965 966 967 968 969 970 971 972 973 974 975 976 977 978 979 980 981 982 983 984 985 986 987 988 989 990 991 992 993 994 995 996 997 998 999 1000 1001 1002 1003 1004 1005 1006 1007 1008 1009 1010 1011 1012 1013 1014 1015 1016 1017 1018 1019 1020 1021 1022 1023 1024 1025 1026 1027 1028 1029 1030 1031 1032 1033 1034 1035 1036 1037 1038 1039 1040 1041 1042 1043 1044 1045 1046 1047 1048 1049 1050 1051 1052 1053 1054 1055 1056 1057 1058 1059 1060 1061 1062 1063 1064 1065 1066 1067 1068 1069 1070 1071 1072 1073 1074 1075 1076 1077 1078 1079 1080 1081 1082 1083 1084 1085 1086 1087 1088 1089 1090 1091 1092 1093 1094 1095 1096 1097 1098 1099 1100 1101 1102 1103 1104 1105 1106 1107 1108 1109 1110 1111 1112 1113 1114 1115 1116 1117 1118 1119 1120 1121 1122 1123 1124 1125 1126 1127 1128 1129 1130 1131 1132 1133 1134 1135 1136 1137 1138 1139 1140 1141 1142 1143 1144 1145 1146 1147 1148 1149 1150 1151 1152 1153 1154 1155 1156 1157 1158 1159 1160 1161 1162 1163 1164 1165 1166 1167 1168 1169 1170 1171 1172 1173 1174 1175 1176 1177 1178 1179 1180 1181 1182 1183 1184 1185 1186 1187 1188 1189 1190 1191 1192 1193 1194 1195 1196 1197 1198 1199 1200 1201 1202 1203 1204 1205 1206 1207 1208 1209 1210 1211 1212 1213 1214 1215 1216 1217 1218 1219 1220 1221 1222 1223 1224 1225 1226 1227 1228 1229 1230 1231 1232 1233 1234 1235 1236 1237 1238 1239 1240 1241 1242 1243 1244 1245 1246 1247 1248 1249 1250 1251 1252 1253 1254 1255 1256 1257 1258 1259 1260 1261 1262 1263 1264 1265 1266 1267 1268 1269 1270 1271 1272 1273 1274 1275 1276 1277 1278 1279 1280 1281 1282 1283 1284 1285 1286 1287 1288 1289 1290 1291 1292 1293 1294 1295 1296 1297 1298 1299 1300 1301 1302 1303 1304 1305 1306 1307 1308 1309 1310 1311 1312 1313 1314 1315 1316 1317 1318 1319 1320 1321 1322 1323 1324 1325 1326 1327 1328 1329 1330 1331 1332 1333 1334 1335 1336 1337 1338 1339 1340 1341 1342 1343 1344 1345 1346 1347 1348 1349 1350 1351 1352 1353 1354 1355 1356 1357 1358 1359 1360 1361 1362 1363 1364 1365 1366 1367 1368 1369 1370 1371 1372 1373 1374 1375 1376 1377 1378 1379 1380 1381 1382 1383 1384 1385 1386 1387 1388 1389 1390 1391 1392 1393 1394 1395 1396 1397 1398 1399 1400 1401 1402 1403 1404 1405 1406 1407 1408 1409 1410 1411 1412 1413 1414 1415 1416 1417 1418 1419 1420 1421 1422 1423 1424 1425 1426 1427 1428 1429 1430 1431 1432 1433 1434 1435 1436 1437 1438 1439 1440 1441 1442 1443 1444 1445 1446 1447 1448 1449 1450 1451 1452 1453 1454 1455 1456 1457 1458 1459 1460 1461 1462 1463 1464 1465 1466 1467 1468 1469 1470 1471 1472 1473 1474 1475 1476 1477 1478 1479 1480 1481 1482 1483 1484 1485 1486 1487 1488 1489 1490 1491 1492 1493 1494 1495 1496 1497 1498 1499 1500 1501 1502 1503 1504 1505 1506 1507 1508 1509 1510 1511 1512 1513 1514 1515 1516 1517 1518 1519 1520 1521 1522 1523 1524 1525 1526 1527 1528 1529 1530 1531 1532 1533 1534 1535 1536 1537 1538 1539 1540 1541 1542 1543 1544 1545 1546 1547 1548 1549 1550 1551 1552 1553 1554 1555 1556 1557 1558 1559 1560 1561 1562 1563 1564 1565 1566 1567 1568 1569 1570 1571 1572 1573 1574 1575 1576 1577 1578 1579 1580 1581 1582 1583 1584 1585 1586 1587 1588 1589 1590 1591 1592 1593 1594 1595 1596 1597 1598 1599 1600 1601 1602 1603 1604 1605 1606 1607 1608 1609 1610 1611 1612 1613 1614 1615 1616 1617 1618 1619 1620 1621 1622 1623 1624 1625 1626 1627 1628 1629 1630 1631 1632 1633 1634 1635 1636 1637 1638 1639 1640 1641 1642 1643 1644 1645 1646 1647 1648 1649 1650 1651 1652 1653 1654 1655 1656 1657 1658 1659 1660 1661 1662 1663 1664 1665 1666 1667 1668 1669 1670 1671 1672 1673 1674 1675 1676 1677 1678 1679 1680 1681 1682 1683 1684 1685 1686 1687 1688 1689 1690 1691 1692 1693 1694 1695 1696 1697 1698 1699 1700 1701 1702 1703 1704 1705 1706 1707 1708 1709 1710 1711 1712 1713 1714 1715 1716 1717 1718 1719 1720 1721 1722 1723 1724 1725 1726 1727 1728 1729 1730 1731 1732 1733 1734 1735 1736 1737 1738 1739 1740 1741 1742 1743 1744 1745 1746 1747 1748 1749 1750 1751 1752 1753 1754 1755 1756 1757 1758 1759 1760 1761 1762 1763 1764 1765 1766 1767 1768 1769 1770 1771 1772 1773 1774 1775 1776 1777 1778 1779 1780 1781 1782 1783 1784 1785 1786 1787 1788 1789 1790 1791 1792 1793 1794 1795 1796 1797 1798 1799 1800 1801 1802 1803 1804 1805 1806 1807 1808 1809 1810 1811 1812 1813 1814 1815 1816 1817 1818 1819 1820 1821 1822 1823 1824 1825 1826 1827 1828 1829 1830 1831 1832 1833 1834 1835 1836 1837 1838 1839 1840 1841 1842 1843 1844 1845 1846 1847 1848 1849 1850 1851 1852 1853 1854 1855 1856 1857 1858 1859 1860 1861 1862 1863 1864 1865 1866 1867 1868 1869 1870 1871 1872 1873 1874 1875 1876 1877 1878 1879 1880 1881 1882 1883 1884 1885 1886 1887 1888 1889 1890 1891 1892 1893 1894 1895 1896 1897 1898 1899 1900 1901 1902 1903 1904 1905 1906 1907 1908 1909 1910 1911 1912 1913 1914 1915 1916 1917 1918 1919 1920 1921 1922 1923 1924 1925 1926 1927 1928 1929 1930 1931 1932 1933 1934 1935 1936 1937 1938 1939 1940 1941 1942 1943 1944 1945 1946 1947 1948 1949 1950 1951 1952 1953 1954 1955 1956 1957 1958 1959 1960 1961 1962 1963 1964 1965 1966 1967 1968 1969 1970 1971 1972 1973 1974 1975 1976 1977 1978 1979 1980 1981 1982 1983 1984 1985 1986 1987 1988 1989 1990 1991 1992 1993 1994 1995 1996 1997 1998 1999 end\n"
     ]
    }
   ],
   "source": [
    "i = 0\n",
    "res = []\n",
    "globalData = []\n",
    "data = []\n",
    "for infile in glob.glob(\"/home/lao/detectKeypoint/dataHelen/trainset/*.pts\"):\n",
    "\n",
    "    imagePath = infile.replace('pts', 'jpg')\n",
    "    im = Image.open(imagePath)\n",
    "    width, height = im.size\n",
    "    im = im.resize((100, 100), Image.NEAREST)\n",
    "    \n",
    "    im.save('/home/lao/detectKeypoint/dataHelenScale/train/'\n",
    "            + str(i) +'.jpg')\n",
    "    \n",
    "    test = open(infile)\n",
    "    \n",
    "    if(i == 68):\n",
    "        res = test\n",
    "    test.readline()\n",
    "    test.readline()\n",
    "    test.readline()\n",
    "    data = []\n",
    "\n",
    "    tmp = '1'\n",
    "    while tmp != '':\n",
    "        tmp = re.split('[^0-9,.]', test.readline())\n",
    "        if(tmp[0] == ''):\n",
    "            break\n",
    "        data.append([float(tmp[0]), float(tmp[1])])\n",
    "    \n",
    "    for k in range(0, len(data)):\n",
    "        data[k][0] = data[k][0] * (100.0 / width)\n",
    "        data[k][1] = data[k][1] * (100.0 / height)\n",
    "    tmpNp = np.array(data)\n",
    "    tmpNp = tmpNp.reshape(1, 136)\n",
    "    data = tmpNp.tolist()\n",
    "    globalData.append(data[0])\n",
    "    print i,\n",
    "    i = i + 1\n",
    "np.finfo(np.float64)\n",
    "#globalData = np.asarray(globalData)\n",
    "\n",
    "globalData2 = np.array(globalData)\n",
    "np.savetxt('/home/lao/detectKeypoint/dataHelenScale/train/res.csv', \n",
    "           globalData2, delimiter=',', fmt='%.18e')\n",
    "\n",
    "print \"end\""
   ]
  },
  {
   "cell_type": "code",
   "execution_count": 11,
   "metadata": {
    "collapsed": false,
    "scrolled": true
   },
   "outputs": [],
   "source": []
  },
  {
   "cell_type": "code",
   "execution_count": 12,
   "metadata": {
    "collapsed": false
   },
   "outputs": [
    {
     "data": {
      "text/plain": [
       "numpy.ndarray"
      ]
     },
     "execution_count": 12,
     "metadata": {},
     "output_type": "execute_result"
    }
   ],
   "source": [
    "type(globalData2)"
   ]
  },
  {
   "cell_type": "code",
   "execution_count": 14,
   "metadata": {
    "collapsed": false
   },
   "outputs": [],
   "source": []
  },
  {
   "cell_type": "code",
   "execution_count": 19,
   "metadata": {
    "collapsed": false,
    "scrolled": true
   },
   "outputs": [
    {
     "data": {
      "image/png": "[encoded data removed]",
      "text/plain": [
       "<matplotlib.figure.Figure at 0x7f34191c8190>"
      ]
     },
     "metadata": {},
     "output_type": "display_data"
    }
   ],
   "source": [
    "pix_val = list(g.getdata()) \n",
    "a = np.array(pix_val)\n",
    "plt.hist(a)\n",
    "plt.show()"
   ]
  },
  {
   "cell_type": "code",
   "execution_count": 20,
   "metadata": {
    "collapsed": false
   },
   "outputs": [],
   "source": [
    "im = Image.open('/home/lao/detectKeypoint/dataHelenScale/2.jpg')"
   ]
  },
  {
   "cell_type": "code",
   "execution_count": null,
   "metadata": {
    "collapsed": false
   },
   "outputs": [],
   "source": [
    "type(globalData)"
   ]
  },
  {
   "cell_type": "code",
   "execution_count": null,
   "metadata": {
    "collapsed": false,
    "scrolled": false
   },
   "outputs": [],
   "source": [
    "from PIL import Image, ImageDraw, ImageFont\n",
    "\n",
    "fnt = ImageFont.truetype('/home/lao/detectKeypoint/data-latin.ttf', 10)\n",
    "\n",
    "i = 0\n",
    "size = 2\n",
    "draw = ImageDraw.Draw(im)\n",
    "for i in range(0, 68):\n",
    "    bbox =  (data[i][0] - size, data[i][1] - size, \n",
    "             data[i][0] + size, data[i][1] + size)\n",
    "    draw.ellipse(bbox, fill=128)\n",
    "    draw.text((data[i][0], data[i][1]), str(i), font=fnt, fill=(255,255,255,128))\n",
    "im.save('/home/lao/detectKeypoint/dataHelenScale/res.jpg')"
   ]
  },
  {
   "cell_type": "code",
   "execution_count": null,
   "metadata": {
    "collapsed": false
   },
   "outputs": [],
   "source": [
    "ndata = np.array(data)"
   ]
  },
  {
   "cell_type": "code",
   "execution_count": null,
   "metadata": {
    "collapsed": false
   },
   "outputs": [],
   "source": [
    "ndata = ndata.reshape(136, 1)"
   ]
  },
  {
   "cell_type": "code",
   "execution_count": 18,
   "metadata": {
    "collapsed": false
   },
   "outputs": [],
   "source": [
    "data2 = data[0]"
   ]
  },
  {
   "cell_type": "code",
   "execution_count": null,
   "metadata": {
    "collapsed": false
   },
   "outputs": [],
   "source": [
    "ndata = ndata.reshape(68, 2)"
   ]
  },
  {
   "cell_type": "code",
   "execution_count": 21,
   "metadata": {
    "collapsed": false,
    "scrolled": true
   },
   "outputs": [
    {
     "data": {
      "text/plain": [
       "array([[ 176.83957259,  210.15990625],\n",
       "       [ 178.81831211,  231.83101275],\n",
       "       [ 182.42295652,  253.76816201],\n",
       "       [ 186.17011297,  277.23382607],\n",
       "       [ 197.53129115,  296.58762459],\n",
       "       [ 217.29827834,  313.15753495],\n",
       "       [ 235.03652213,  330.55807484],\n",
       "       [ 253.93292741,  342.24438281],\n",
       "       [ 271.07037267,  341.72082895],\n",
       "       [ 287.32067818,  339.89795025],\n",
       "       [ 298.94398059,  324.78064597],\n",
       "       [ 309.11459938,  305.94780715],\n",
       "       [ 320.91300194,  287.57536719],\n",
       "       [ 329.75437034,  267.2535037 ],\n",
       "       [ 334.56081716,  245.04143133],\n",
       "       [ 335.03155124,  224.30527138],\n",
       "       [ 332.76676708,  204.78866118],\n",
       "       [ 204.41443207,  195.01311143],\n",
       "       [ 211.33118595,  179.23809293],\n",
       "       [ 229.55002989,  174.38208635],\n",
       "       [ 249.09608463,  176.76144285],\n",
       "       [ 265.9320955 ,  184.04021628],\n",
       "       [ 290.21459239,  184.61364926],\n",
       "       [ 303.29201087,  178.96085197],\n",
       "       [ 315.1186972 ,  175.05912747],\n",
       "       [ 328.3243455 ,  178.85433964],\n",
       "       [ 332.84933075,  192.80899918],\n",
       "       [ 280.69805862,  197.56998355],\n",
       "       [ 282.08528688,  214.59725905],\n",
       "       [ 283.87433385,  230.51696258],\n",
       "       [ 286.44730008,  246.53583265],\n",
       "       [ 265.40120109,  256.43460691],\n",
       "       [ 274.73143439,  257.81321957],\n",
       "       [ 282.92718129,  258.69574178],\n",
       "       [ 289.77885016,  257.49118956],\n",
       "       [ 295.7511809 ,  255.30789803],\n",
       "       [ 225.32021933,  200.66270683],\n",
       "       [ 235.75066149,  196.25528824],\n",
       "       [ 246.89599534,  194.59840008],\n",
       "       [ 256.00256405,  202.3431875 ],\n",
       "       [ 247.02138936,  206.36760691],\n",
       "       [ 235.58945419,  205.6136875 ],\n",
       "       [ 293.62636064,  203.40368051],\n",
       "       [ 301.54202213,  194.87183141],\n",
       "       [ 311.71894099,  193.75501398],\n",
       "       [ 318.95489169,  197.64445271],\n",
       "       [ 313.71208463,  204.09443503],\n",
       "       [ 303.4991021 ,  205.46106127],\n",
       "       [ 244.23028028,  282.61546258],\n",
       "       [ 260.49880512,  276.26753084],\n",
       "       [ 274.81706405,  273.94839597],\n",
       "       [ 281.45751941,  275.64347985],\n",
       "       [ 287.89714363,  273.49921299],\n",
       "       [ 296.39639674,  276.17633347],\n",
       "       [ 303.53125932,  279.91236102],\n",
       "       [ 296.26507182,  288.68335979],\n",
       "       [ 288.2853125 ,  290.31950699],\n",
       "       [ 280.82777523,  289.83037294],\n",
       "       [ 274.03964596,  290.3474227 ],\n",
       "       [ 260.38826048,  288.76415707],\n",
       "       [ 247.00463121,  281.39305263],\n",
       "       [ 274.27531793,  281.11500987],\n",
       "       [ 280.8263521 ,  282.32389021],\n",
       "       [ 287.74207259,  281.12034375],\n",
       "       [ 300.00832958,  280.43390666],\n",
       "       [ 287.74207259,  281.12034375],\n",
       "       [ 280.8263521 ,  282.32389021],\n",
       "       [ 274.27531793,  281.11500987]])"
      ]
     },
     "execution_count": 21,
     "metadata": {},
     "output_type": "execute_result"
    }
   ],
   "source": [
    "data2\n",
    "data3 = np.array(data2)\n",
    "data3.reshape(68,2)"
   ]
  },
  {
   "cell_type": "code",
   "execution_count": 22,
   "metadata": {
    "collapsed": false,
    "scrolled": true
   },
   "outputs": [
    {
     "data": {
      "text/plain": [
       "[[176.8395725931677,\n",
       "  210.15990625,\n",
       "  178.81831211180125,\n",
       "  231.83101274671054,\n",
       "  182.42295652173914,\n",
       "  253.76816200657893,\n",
       "  186.1701129658385,\n",
       "  277.23382606907893,\n",
       "  197.53129114906832,\n",
       "  296.5876245888158,\n",
       "  217.2982783385093,\n",
       "  313.15753495065786,\n",
       "  235.0365221273292,\n",
       "  330.55807483552627,\n",
       "  253.9329274068323,\n",
       "  342.24438281249996,\n",
       "  271.07037267080744,\n",
       "  341.72082894736843,\n",
       "  287.3206781832298,\n",
       "  339.8979502467105,\n",
       "  298.94398059006215,\n",
       "  324.78064597039474,\n",
       "  309.114599378882,\n",
       "  305.94780715460524,\n",
       "  320.9130019409938,\n",
       "  287.5753671875,\n",
       "  329.7543703416149,\n",
       "  267.25350370065786,\n",
       "  334.5608171583851,\n",
       "  245.0414313322368,\n",
       "  335.03155124223605,\n",
       "  224.3052713815789,\n",
       "  332.76676708074535,\n",
       "  204.7886611842105,\n",
       "  204.41443206521743,\n",
       "  195.01311143092104,\n",
       "  211.33118594720497,\n",
       "  179.23809292763156,\n",
       "  229.55002989130435,\n",
       "  174.3820863486842,\n",
       "  249.0960846273292,\n",
       "  176.76144284539473,\n",
       "  265.9320954968944,\n",
       "  184.04021628289473,\n",
       "  290.2145923913044,\n",
       "  184.6136492598684,\n",
       "  303.2920108695652,\n",
       "  178.9608519736842,\n",
       "  315.11869720496895,\n",
       "  175.05912746710527,\n",
       "  328.3243454968944,\n",
       "  178.85433963815788,\n",
       "  332.84933074534166,\n",
       "  192.80899917763156,\n",
       "  280.69805861801245,\n",
       "  197.56998355263158,\n",
       "  282.085286878882,\n",
       "  214.5972590460526,\n",
       "  283.8743338509317,\n",
       "  230.51696258223683,\n",
       "  286.44730007763974,\n",
       "  246.53583264802631,\n",
       "  265.4012010869565,\n",
       "  256.4346069078947,\n",
       "  274.7314343944099,\n",
       "  257.81321957236844,\n",
       "  282.9271812888199,\n",
       "  258.6957417763158,\n",
       "  289.77885015527954,\n",
       "  257.49118955592104,\n",
       "  295.75118090062114,\n",
       "  255.30789802631577,\n",
       "  225.32021933229814,\n",
       "  200.6627068256579,\n",
       "  235.75066149068326,\n",
       "  196.25528824013156,\n",
       "  246.89599534161493,\n",
       "  194.59840008223682,\n",
       "  256.00256405279504,\n",
       "  202.3431875,\n",
       "  247.02138936335405,\n",
       "  206.36760690789473,\n",
       "  235.58945419254658,\n",
       "  205.61368749999997,\n",
       "  293.6263606366459,\n",
       "  203.4036805098684,\n",
       "  301.5420221273292,\n",
       "  194.87183141447366,\n",
       "  311.7189409937888,\n",
       "  193.75501398026316,\n",
       "  318.9548916925466,\n",
       "  197.64445271381578,\n",
       "  313.7120846273292,\n",
       "  204.09443503289472,\n",
       "  303.4991020962733,\n",
       "  205.46106126644736,\n",
       "  244.23028027950312,\n",
       "  282.61546258223683,\n",
       "  260.4988051242236,\n",
       "  276.2675308388158,\n",
       "  274.81706405279505,\n",
       "  273.9483959703947,\n",
       "  281.4575194099379,\n",
       "  275.64347985197367,\n",
       "  287.8971436335404,\n",
       "  273.49921299342105,\n",
       "  296.3963967391304,\n",
       "  276.1763334703947,\n",
       "  303.5312593167702,\n",
       "  279.9123610197368,\n",
       "  296.26507181677016,\n",
       "  288.6833597861842,\n",
       "  288.28531250000003,\n",
       "  290.3195069901316,\n",
       "  280.82777523291924,\n",
       "  289.83037294407893,\n",
       "  274.0396459627329,\n",
       "  290.34742269736836,\n",
       "  260.3882604813665,\n",
       "  288.76415707236845,\n",
       "  247.00463121118014,\n",
       "  281.39305263157894,\n",
       "  274.2753179347826,\n",
       "  281.115009868421,\n",
       "  280.8263520962733,\n",
       "  282.3238902138158,\n",
       "  287.7420725931677,\n",
       "  281.12034374999996,\n",
       "  300.00832958074534,\n",
       "  280.4339066611842,\n",
       "  287.7420725931677,\n",
       "  281.12034374999996,\n",
       "  280.8263520962733,\n",
       "  282.3238902138158,\n",
       "  274.2753179347826,\n",
       "  281.115009868421]]"
      ]
     },
     "execution_count": 22,
     "metadata": {},
     "output_type": "execute_result"
    }
   ],
   "source": [
    "data"
   ]
  },
  {
   "cell_type": "code",
   "execution_count": null,
   "metadata": {
    "collapsed": true
   },
   "outputs": [],
   "source": []
  }
 ],
 "metadata": {
  "kernelspec": {
   "display_name": "Python 2",
   "language": "python",
   "name": "python2"
  },
  "language_info": {
   "codemirror_mode": {
    "name": "ipython",
    "version": 2
   },
   "file_extension": ".py",
   "mimetype": "text/x-python",
   "name": "python",
   "nbconvert_exporter": "python",
   "pygments_lexer": "ipython2",
   "version": "2.7.6"
  }
 },
 "nbformat": 4,
 "nbformat_minor": 0
}
